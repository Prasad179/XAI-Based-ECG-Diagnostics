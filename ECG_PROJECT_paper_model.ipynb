{
  "nbformat": 4,
  "nbformat_minor": 0,
  "metadata": {
    "colab": {
      "provenance": [],
      "gpuType": "T4"
    },
    "kernelspec": {
      "name": "python3",
      "display_name": "Python 3"
    },
    "language_info": {
      "name": "python"
    },
    "accelerator": "GPU"
  },
  "cells": [
    {
      "cell_type": "code",
      "source": [
        "from tensorflow.keras import layers, optimizers, losses, metrics, activations, regularizers, callbacks\n",
        "from keras.models import Model\n",
        "import numpy as np\n",
        "import pandas as pd\n",
        "from tensorflow.keras.layers import LSTM"
      ],
      "metadata": {
        "id": "MJx9Nhz6wOEC"
      },
      "execution_count": null,
      "outputs": []
    },
    {
      "cell_type": "code",
      "source": [
        "path = \"/content/drive/Othercomputers/My Laptop/project_code/ECG Project files/\"\n",
        "x_train = np.load(path + 'xtrain.npy')\n",
        "y_train = np.load(path + 'ytrain.npy', allow_pickle=True)\n",
        "x_test  = np.load(path + 'xtest.npy')\n",
        "y_test  = np.load(path + 'ytest.npy', allow_pickle=True)\n",
        "print(x_train.shape)\n",
        "x_train = x_train.transpose(0, 2, 1)            # transpose working correctly\n",
        "x_test  = x_test.transpose(0, 2, 1)\n",
        "print(x_train.shape)\n",
        "x_train = x_train.reshape(19601, 12, 1000, 1)   # Add another channel\n",
        "x_test  = x_test.reshape(2198, 12, 1000, 1)\n",
        "\n",
        "print(\"x_train :\", x_train.shape)\n",
        "print(\"y_train :\", y_train.shape)\n",
        "print(\"x_test  :\", x_test.shape)\n",
        "print(\"y_test  :\", y_test.shape)\n",
        "print('Data loaded')"
      ],
      "metadata": {
        "colab": {
          "base_uri": "https://localhost:8080/"
        },
        "id": "kJxT5hv-wjBM",
        "outputId": "dd2d52f3-a3c2-4c46-9eea-9ec6046ac22f"
      },
      "execution_count": null,
      "outputs": [
        {
          "output_type": "stream",
          "name": "stdout",
          "text": [
            "(19601, 1000, 12)\n",
            "(19601, 12, 1000)\n",
            "x_train : (19601, 12, 1000, 1)\n",
            "y_train : (19601,)\n",
            "x_test  : (2198, 12, 1000, 1)\n",
            "y_test  : (2198,)\n",
            "Data loaded\n"
          ]
        }
      ]
    },
    {
      "cell_type": "code",
      "source": [
        "x_train = x_train[:2000]\n",
        "x_test = x_test[:500]\n",
        "y_train = y_train[:2000]\n",
        "y_test = y_test[:500]"
      ],
      "metadata": {
        "id": "9szwf9I40VVc"
      },
      "execution_count": null,
      "outputs": []
    },
    {
      "cell_type": "code",
      "source": [
        "x_test.shape"
      ],
      "metadata": {
        "colab": {
          "base_uri": "https://localhost:8080/"
        },
        "id": "CxCCW4SO0fuX",
        "outputId": "3ad1f11c-835e-499b-ae90-d6b9c9a8c9f7"
      },
      "execution_count": null,
      "outputs": [
        {
          "output_type": "execute_result",
          "data": {
            "text/plain": [
              "(500, 12, 1000, 1)"
            ]
          },
          "metadata": {},
          "execution_count": 4
        }
      ]
    },
    {
      "cell_type": "code",
      "source": [
        "\n",
        "from sklearn.preprocessing import MultiLabelBinarizer\n",
        "\n",
        "\n",
        "# Convert multi-label target labels to one-hot encoded matrix\n",
        "mlb = MultiLabelBinarizer()\n",
        "y_train = mlb.fit_transform(y_train)\n",
        "y_test = mlb.transform(y_test)\n",
        "print(\"Classes:\", mlb.classes_)"
      ],
      "metadata": {
        "colab": {
          "base_uri": "https://localhost:8080/"
        },
        "id": "ffvWI7S-KWPh",
        "outputId": "6e1db6ca-be32-4992-e7f0-3c1a674e878b"
      },
      "execution_count": null,
      "outputs": [
        {
          "output_type": "stream",
          "name": "stdout",
          "text": [
            "Classes: ['CD' 'HYP' 'MI' 'NORM' 'STTC']\n"
          ]
        }
      ]
    },
    {
      "cell_type": "code",
      "source": [
        "# Main Version\n",
        "input = layers.Input(shape=(12, 1000, 1))\n",
        "\n",
        "X = layers.Conv2D(filters=32, kernel_size=(1, 5))(input)\n",
        "X = layers.BatchNormalization()(X)\n",
        "X = layers.ReLU()(X)\n",
        "X = layers.MaxPooling2D(pool_size=(1, 2), strides=1)(X)\n",
        "\n",
        "convC1 = layers.Conv2D(filters=64, kernel_size=(1, 7))(X)\n",
        "\n",
        "X = layers.Conv2D(filters=32, kernel_size=(1, 5))(X)\n",
        "X = layers.BatchNormalization()(X)\n",
        "X = layers.ReLU()(X)\n",
        "X = layers.MaxPooling2D(pool_size=(1, 4), strides=1)(X)\n",
        "\n",
        "convC2 = layers.Conv2D(filters=64, kernel_size=(1, 6))(convC1)\n",
        "\n",
        "X = layers.Conv2D(filters=64, kernel_size=(1, 5))(X)\n",
        "X = layers.BatchNormalization()(X)\n",
        "X = layers.Add()([convC2, X])           # skip Connection\n",
        "X = layers.ReLU()(X)\n",
        "X = layers.MaxPooling2D(pool_size=(1, 2), strides=1)(X)\n",
        "\n",
        "convE1 = layers.Conv2D(filters=32, kernel_size=(1, 4))(X)\n",
        "\n",
        "X = layers.Conv2D(filters=64, kernel_size=(1, 3))(X)\n",
        "X = layers.BatchNormalization()(X)\n",
        "X = layers.ReLU()(X)\n",
        "X = layers.MaxPooling2D(pool_size=(1, 4), strides=1)(X)\n",
        "\n",
        "convE2 = layers.Conv2D(filters=64, kernel_size=(1, 5))(convE1)\n",
        "\n",
        "X = layers.Conv2D(filters=64, kernel_size=(1, 3))(X)\n",
        "X = layers.BatchNormalization()(X)\n",
        "X = layers.Add()([convE2, X])         # skip Connection\n",
        "X = layers.ReLU()(X)\n",
        "X = layers.MaxPooling2D(pool_size=(1, 2), strides=1)(X)\n",
        "print('Added 5 layers for temporal analysis')\n",
        "\n",
        "X = layers.Conv2D(filters=64, kernel_size=(12, 1))(X)\n",
        "X = layers.BatchNormalization()(X)\n",
        "X = layers.ReLU()(X)\n",
        "X = layers.GlobalAveragePooling2D()(X)\n",
        "print('Added 1 layer for spatial Analysis')\n",
        "\n",
        "X = layers.Flatten()(X)\n",
        "print(X.shape)\n",
        "\n",
        "X = layers.Dense(units=128, kernel_regularizer=regularizers.L2(0.005))(X)\n",
        "X = layers.BatchNormalization()(X)\n",
        "X = layers.ReLU()(X)\n",
        "X = layers.Dropout(rate=0.1)(X)\n",
        "\n",
        "X = layers.Dense(units=64, kernel_regularizer=regularizers.L2(0.009))(X)\n",
        "X = layers.BatchNormalization()(X)\n",
        "X = layers.ReLU()(X)\n",
        "X = layers.Dropout(rate=0.15)(X)\n",
        "print('Added 2 fully connected layers')\n",
        "\n",
        "output = layers.Dense(5, activation='sigmoid')(X)\n",
        "model = Model(inputs=input, outputs=output)\n",
        "print(model.summary())"
      ],
      "metadata": {
        "colab": {
          "base_uri": "https://localhost:8080/"
        },
        "id": "qk3y3dB3x65D",
        "outputId": "476fc2a0-a68b-4785-c210-f6ac3706e5bf"
      },
      "execution_count": null,
      "outputs": [
        {
          "output_type": "stream",
          "name": "stdout",
          "text": [
            "Added 5 layers for temporal analysis\n",
            "Added 1 layer for spatial Analysis\n",
            "(None, 64)\n",
            "Added 2 fully connected layers\n",
            "Model: \"model_2\"\n",
            "__________________________________________________________________________________________________\n",
            " Layer (type)                   Output Shape         Param #     Connected to                     \n",
            "==================================================================================================\n",
            " input_3 (InputLayer)           [(None, 12, 1000, 1  0           []                               \n",
            "                                )]                                                                \n",
            "                                                                                                  \n",
            " conv2d_20 (Conv2D)             (None, 12, 996, 32)  192         ['input_3[0][0]']                \n",
            "                                                                                                  \n",
            " batch_normalization_16 (BatchN  (None, 12, 996, 32)  128        ['conv2d_20[0][0]']              \n",
            " ormalization)                                                                                    \n",
            "                                                                                                  \n",
            " re_lu_16 (ReLU)                (None, 12, 996, 32)  0           ['batch_normalization_16[0][0]'] \n",
            "                                                                                                  \n",
            " max_pooling2d_10 (MaxPooling2D  (None, 12, 995, 32)  0          ['re_lu_16[0][0]']               \n",
            " )                                                                                                \n",
            "                                                                                                  \n",
            " conv2d_22 (Conv2D)             (None, 12, 991, 32)  5152        ['max_pooling2d_10[0][0]']       \n",
            "                                                                                                  \n",
            " batch_normalization_17 (BatchN  (None, 12, 991, 32)  128        ['conv2d_22[0][0]']              \n",
            " ormalization)                                                                                    \n",
            "                                                                                                  \n",
            " re_lu_17 (ReLU)                (None, 12, 991, 32)  0           ['batch_normalization_17[0][0]'] \n",
            "                                                                                                  \n",
            " max_pooling2d_11 (MaxPooling2D  (None, 12, 988, 32)  0          ['re_lu_17[0][0]']               \n",
            " )                                                                                                \n",
            "                                                                                                  \n",
            " conv2d_21 (Conv2D)             (None, 12, 989, 64)  14400       ['max_pooling2d_10[0][0]']       \n",
            "                                                                                                  \n",
            " conv2d_24 (Conv2D)             (None, 12, 984, 64)  10304       ['max_pooling2d_11[0][0]']       \n",
            "                                                                                                  \n",
            " conv2d_23 (Conv2D)             (None, 12, 984, 64)  24640       ['conv2d_21[0][0]']              \n",
            "                                                                                                  \n",
            " batch_normalization_18 (BatchN  (None, 12, 984, 64)  256        ['conv2d_24[0][0]']              \n",
            " ormalization)                                                                                    \n",
            "                                                                                                  \n",
            " add_4 (Add)                    (None, 12, 984, 64)  0           ['conv2d_23[0][0]',              \n",
            "                                                                  'batch_normalization_18[0][0]'] \n",
            "                                                                                                  \n",
            " re_lu_18 (ReLU)                (None, 12, 984, 64)  0           ['add_4[0][0]']                  \n",
            "                                                                                                  \n",
            " max_pooling2d_12 (MaxPooling2D  (None, 12, 983, 64)  0          ['re_lu_18[0][0]']               \n",
            " )                                                                                                \n",
            "                                                                                                  \n",
            " conv2d_26 (Conv2D)             (None, 12, 981, 64)  12352       ['max_pooling2d_12[0][0]']       \n",
            "                                                                                                  \n",
            " batch_normalization_19 (BatchN  (None, 12, 981, 64)  256        ['conv2d_26[0][0]']              \n",
            " ormalization)                                                                                    \n",
            "                                                                                                  \n",
            " re_lu_19 (ReLU)                (None, 12, 981, 64)  0           ['batch_normalization_19[0][0]'] \n",
            "                                                                                                  \n",
            " max_pooling2d_13 (MaxPooling2D  (None, 12, 978, 64)  0          ['re_lu_19[0][0]']               \n",
            " )                                                                                                \n",
            "                                                                                                  \n",
            " conv2d_25 (Conv2D)             (None, 12, 980, 32)  8224        ['max_pooling2d_12[0][0]']       \n",
            "                                                                                                  \n",
            " conv2d_28 (Conv2D)             (None, 12, 976, 64)  12352       ['max_pooling2d_13[0][0]']       \n",
            "                                                                                                  \n",
            " conv2d_27 (Conv2D)             (None, 12, 976, 64)  10304       ['conv2d_25[0][0]']              \n",
            "                                                                                                  \n",
            " batch_normalization_20 (BatchN  (None, 12, 976, 64)  256        ['conv2d_28[0][0]']              \n",
            " ormalization)                                                                                    \n",
            "                                                                                                  \n",
            " add_5 (Add)                    (None, 12, 976, 64)  0           ['conv2d_27[0][0]',              \n",
            "                                                                  'batch_normalization_20[0][0]'] \n",
            "                                                                                                  \n",
            " re_lu_20 (ReLU)                (None, 12, 976, 64)  0           ['add_5[0][0]']                  \n",
            "                                                                                                  \n",
            " max_pooling2d_14 (MaxPooling2D  (None, 12, 975, 64)  0          ['re_lu_20[0][0]']               \n",
            " )                                                                                                \n",
            "                                                                                                  \n",
            " conv2d_29 (Conv2D)             (None, 1, 975, 64)   49216       ['max_pooling2d_14[0][0]']       \n",
            "                                                                                                  \n",
            " batch_normalization_21 (BatchN  (None, 1, 975, 64)  256         ['conv2d_29[0][0]']              \n",
            " ormalization)                                                                                    \n",
            "                                                                                                  \n",
            " re_lu_21 (ReLU)                (None, 1, 975, 64)   0           ['batch_normalization_21[0][0]'] \n",
            "                                                                                                  \n",
            " global_average_pooling2d_2 (Gl  (None, 64)          0           ['re_lu_21[0][0]']               \n",
            " obalAveragePooling2D)                                                                            \n",
            "                                                                                                  \n",
            " flatten_2 (Flatten)            (None, 64)           0           ['global_average_pooling2d_2[0][0\n",
            "                                                                 ]']                              \n",
            "                                                                                                  \n",
            " dense_6 (Dense)                (None, 128)          8320        ['flatten_2[0][0]']              \n",
            "                                                                                                  \n",
            " batch_normalization_22 (BatchN  (None, 128)         512         ['dense_6[0][0]']                \n",
            " ormalization)                                                                                    \n",
            "                                                                                                  \n",
            " re_lu_22 (ReLU)                (None, 128)          0           ['batch_normalization_22[0][0]'] \n",
            "                                                                                                  \n",
            " dropout_4 (Dropout)            (None, 128)          0           ['re_lu_22[0][0]']               \n",
            "                                                                                                  \n",
            " dense_7 (Dense)                (None, 64)           8256        ['dropout_4[0][0]']              \n",
            "                                                                                                  \n",
            " batch_normalization_23 (BatchN  (None, 64)          256         ['dense_7[0][0]']                \n",
            " ormalization)                                                                                    \n",
            "                                                                                                  \n",
            " re_lu_23 (ReLU)                (None, 64)           0           ['batch_normalization_23[0][0]'] \n",
            "                                                                                                  \n",
            " dropout_5 (Dropout)            (None, 64)           0           ['re_lu_23[0][0]']               \n",
            "                                                                                                  \n",
            " dense_8 (Dense)                (None, 5)            325         ['dropout_5[0][0]']              \n",
            "                                                                                                  \n",
            "==================================================================================================\n",
            "Total params: 166,085\n",
            "Trainable params: 165,061\n",
            "Non-trainable params: 1,024\n",
            "__________________________________________________________________________________________________\n",
            "None\n"
          ]
        }
      ]
    },
    {
      "cell_type": "code",
      "source": [],
      "metadata": {
        "id": "-49w70EFKQnc"
      },
      "execution_count": null,
      "outputs": []
    },
    {
      "cell_type": "code",
      "source": [
        "# Source: https://keras.io/api/callbacks/\n",
        "# Source: https://towardsdatascience.com/checkpointing-deep-learning-models-in-keras-a652570b8de6\n",
        "\n",
        "early    = callbacks.EarlyStopping(monitor=\"val_loss\", patience=6, restore_best_weights=True)\n",
        "reducelr = callbacks.ReduceLROnPlateau(monitor=\"val_loss\", patience=3)\n",
        "callback = [early, reducelr]\n",
        "\n",
        "model.compile(optimizer = optimizers.Adam(learning_rate=0.005),\n",
        "              loss = losses.BinaryCrossentropy(),\n",
        "              metrics = [metrics.BinaryAccuracy(), metrics.AUC(curve='ROC', multi_label=True)])\n",
        "\n",
        "history = model.fit(x_train, y_train, validation_split=0.12, epochs=20, batch_size=64, callbacks=callback)"
      ],
      "metadata": {
        "colab": {
          "base_uri": "https://localhost:8080/"
        },
        "id": "ts0oUWQe98rm",
        "outputId": "d40dd14f-9d6d-4798-99d4-1344474b4485"
      },
      "execution_count": null,
      "outputs": [
        {
          "output_type": "stream",
          "name": "stdout",
          "text": [
            "Epoch 1/20\n",
            "28/28 [==============================] - 18s 331ms/step - loss: 1.2254 - binary_accuracy: 0.7661 - auc_2: 0.7121 - val_loss: 0.8834 - val_binary_accuracy: 0.8125 - val_auc_2: 0.7436 - lr: 0.0050\n",
            "Epoch 2/20\n",
            "28/28 [==============================] - 8s 299ms/step - loss: 0.5805 - binary_accuracy: 0.8300 - auc_2: 0.8337 - val_loss: 0.6248 - val_binary_accuracy: 0.8075 - val_auc_2: 0.7089 - lr: 0.0050\n",
            "Epoch 3/20\n",
            "28/28 [==============================] - 8s 302ms/step - loss: 0.4413 - binary_accuracy: 0.8433 - auc_2: 0.8581 - val_loss: 0.5585 - val_binary_accuracy: 0.7775 - val_auc_2: 0.6651 - lr: 0.0050\n",
            "Epoch 4/20\n",
            "28/28 [==============================] - 9s 316ms/step - loss: 0.3905 - binary_accuracy: 0.8549 - auc_2: 0.8740 - val_loss: 0.5570 - val_binary_accuracy: 0.7708 - val_auc_2: 0.5970 - lr: 0.0050\n",
            "Epoch 5/20\n",
            "28/28 [==============================] - 9s 317ms/step - loss: 0.3669 - binary_accuracy: 0.8640 - auc_2: 0.8810 - val_loss: 0.5631 - val_binary_accuracy: 0.7517 - val_auc_2: 0.5722 - lr: 0.0050\n",
            "Epoch 6/20\n",
            "28/28 [==============================] - 9s 320ms/step - loss: 0.3673 - binary_accuracy: 0.8574 - auc_2: 0.8815 - val_loss: 0.5643 - val_binary_accuracy: 0.7550 - val_auc_2: 0.6496 - lr: 0.0050\n",
            "Epoch 7/20\n",
            "28/28 [==============================] - 9s 323ms/step - loss: 0.3671 - binary_accuracy: 0.8599 - auc_2: 0.8813 - val_loss: 0.5126 - val_binary_accuracy: 0.8108 - val_auc_2: 0.7126 - lr: 0.0050\n",
            "Epoch 8/20\n",
            "28/28 [==============================] - 9s 311ms/step - loss: 0.3503 - binary_accuracy: 0.8695 - auc_2: 0.8899 - val_loss: 0.5308 - val_binary_accuracy: 0.7942 - val_auc_2: 0.6707 - lr: 0.0050\n",
            "Epoch 9/20\n",
            "28/28 [==============================] - 9s 324ms/step - loss: 0.3629 - binary_accuracy: 0.8643 - auc_2: 0.8836 - val_loss: 0.5189 - val_binary_accuracy: 0.8058 - val_auc_2: 0.7490 - lr: 0.0050\n",
            "Epoch 10/20\n",
            "28/28 [==============================] - 9s 326ms/step - loss: 0.3308 - binary_accuracy: 0.8780 - auc_2: 0.9054 - val_loss: 0.5384 - val_binary_accuracy: 0.7292 - val_auc_2: 0.7638 - lr: 0.0050\n",
            "Epoch 11/20\n",
            "28/28 [==============================] - 9s 326ms/step - loss: 0.3192 - binary_accuracy: 0.8828 - auc_2: 0.9115 - val_loss: 0.5052 - val_binary_accuracy: 0.7850 - val_auc_2: 0.7549 - lr: 5.0000e-04\n",
            "Epoch 12/20\n",
            "28/28 [==============================] - 9s 329ms/step - loss: 0.2958 - binary_accuracy: 0.8881 - auc_2: 0.9249 - val_loss: 0.4715 - val_binary_accuracy: 0.8250 - val_auc_2: 0.7783 - lr: 5.0000e-04\n",
            "Epoch 13/20\n",
            "28/28 [==============================] - 9s 329ms/step - loss: 0.2818 - binary_accuracy: 0.8949 - auc_2: 0.9310 - val_loss: 0.4726 - val_binary_accuracy: 0.8242 - val_auc_2: 0.7928 - lr: 5.0000e-04\n",
            "Epoch 14/20\n",
            "28/28 [==============================] - 9s 321ms/step - loss: 0.2737 - binary_accuracy: 0.8964 - auc_2: 0.9340 - val_loss: 0.4610 - val_binary_accuracy: 0.8242 - val_auc_2: 0.8072 - lr: 5.0000e-04\n",
            "Epoch 15/20\n",
            "28/28 [==============================] - 9s 316ms/step - loss: 0.2695 - binary_accuracy: 0.8956 - auc_2: 0.9349 - val_loss: 0.4594 - val_binary_accuracy: 0.8208 - val_auc_2: 0.8146 - lr: 5.0000e-04\n",
            "Epoch 16/20\n",
            "28/28 [==============================] - 9s 318ms/step - loss: 0.2598 - binary_accuracy: 0.8982 - auc_2: 0.9408 - val_loss: 0.4529 - val_binary_accuracy: 0.8233 - val_auc_2: 0.8162 - lr: 5.0000e-04\n",
            "Epoch 17/20\n",
            "28/28 [==============================] - 9s 318ms/step - loss: 0.2535 - binary_accuracy: 0.9016 - auc_2: 0.9423 - val_loss: 0.4348 - val_binary_accuracy: 0.8325 - val_auc_2: 0.8371 - lr: 5.0000e-04\n",
            "Epoch 18/20\n",
            "28/28 [==============================] - 9s 330ms/step - loss: 0.2492 - binary_accuracy: 0.9036 - auc_2: 0.9420 - val_loss: 0.4381 - val_binary_accuracy: 0.8275 - val_auc_2: 0.8283 - lr: 5.0000e-04\n",
            "Epoch 19/20\n",
            "28/28 [==============================] - 9s 320ms/step - loss: 0.2466 - binary_accuracy: 0.9022 - auc_2: 0.9443 - val_loss: 0.4524 - val_binary_accuracy: 0.8292 - val_auc_2: 0.8252 - lr: 5.0000e-04\n",
            "Epoch 20/20\n",
            "28/28 [==============================] - 9s 333ms/step - loss: 0.2397 - binary_accuracy: 0.9055 - auc_2: 0.9475 - val_loss: 0.4176 - val_binary_accuracy: 0.8392 - val_auc_2: 0.8427 - lr: 5.0000e-04\n"
          ]
        }
      ]
    },
    {
      "cell_type": "markdown",
      "source": [],
      "metadata": {
        "id": "V65iMb0hGJNE"
      }
    },
    {
      "cell_type": "code",
      "source": [
        "save_path = \"/content/drive/Othercomputers/My Laptop/project_code/ECG Project files/\"\n",
        "model.save(save_path + \"ST-CNN-5_final1.h5\")"
      ],
      "metadata": {
        "id": "LKWbmNBuGJkX"
      },
      "execution_count": null,
      "outputs": []
    },
    {
      "cell_type": "code",
      "source": [
        "\n",
        "from sklearn.metrics import precision_recall_curve, f1_score, roc_auc_score, accuracy_score, auc\n",
        "\n",
        "\n",
        "def sklearn_metrics(y_true, y_pred):\n",
        "    y_bin = np.copy(y_pred)\n",
        "    y_bin[y_bin >= 0.5] = 1\n",
        "    y_bin[y_bin < 0.5]  = 0\n",
        "\n",
        "    # Compute area under precision-Recall curve\n",
        "    auc_sum = 0\n",
        "    for i in range(5):\n",
        "      precision, recall, thresholds = precision_recall_curve(y_true[:, i], y_pred[:,i])\n",
        "      auc_sum += auc(recall, precision)\n",
        "\n",
        "    print(\"Accuracy        : {:.2f}\".format(accuracy_score(y_true.flatten(), y_bin.flatten())* 100))\n",
        "    print(\"Macro AUC score : {:.2f}\".format(roc_auc_score(y_true, y_pred, average='macro') * 100))\n",
        "    print('AUPRC           : {:.2f}'.format((auc_sum / 5) * 100))\n",
        "    print(\"Micro F1 score  : {:.2f}\".format(f1_score(y_true, y_bin, average='micro') * 100))\n"
      ],
      "metadata": {
        "id": "ouOA44foGVPY"
      },
      "execution_count": null,
      "outputs": []
    },
    {
      "cell_type": "code",
      "source": [
        "from tensorflow.keras.models import load_model\n",
        "model = load_model(r'/content/drive/Othercomputers/My Laptop/project_code/ECG Project files/ST-CNN-5_final1.h5')\n",
        "y_pred_train = model.predict(x_train)\n",
        "y_pred_test  = model.predict(x_test)"
      ],
      "metadata": {
        "id": "EwzwSVs1Q1Gs",
        "colab": {
          "base_uri": "https://localhost:8080/"
        },
        "outputId": "5991f287-3be4-4ba4-d3ed-765e0ca02143"
      },
      "execution_count": null,
      "outputs": [
        {
          "output_type": "stream",
          "name": "stdout",
          "text": [
            "63/63 [==============================] - 3s 42ms/step\n",
            "16/16 [==============================] - 1s 41ms/step\n"
          ]
        }
      ]
    },
    {
      "cell_type": "code",
      "source": [
        "\n",
        "print(\"Train\")\n",
        "sklearn_metrics(y_train, y_pred_train)\n",
        "print(\"\\nTest\")\n",
        "sklearn_metrics(y_test, y_pred_test)\n"
      ],
      "metadata": {
        "id": "bQ4NilcFQ58y",
        "colab": {
          "base_uri": "https://localhost:8080/"
        },
        "outputId": "2c6fe20e-5cfa-4f65-e2c9-caf03a46c80f"
      },
      "execution_count": null,
      "outputs": [
        {
          "output_type": "stream",
          "name": "stdout",
          "text": [
            "Train\n",
            "Accuracy        : 82.77\n",
            "Macro AUC score : 91.06\n",
            "AUPRC           : 73.36\n",
            "Micro F1 score  : 60.18\n",
            "\n",
            "Test\n",
            "Accuracy        : 81.60\n",
            "Macro AUC score : 86.17\n",
            "AUPRC           : 64.94\n",
            "Micro F1 score  : 56.36\n"
          ]
        }
      ]
    },
    {
      "cell_type": "code",
      "source": [
        "model_ppr = load_model(r'/content/drive/Othercomputers/My Laptop/project_code/ECG Project files/ST-CNN-GAP-5.h5')\n",
        "y_pred_train1 = model_ppr.predict(x_train)\n",
        "y_pred_test1  = model_ppr.predict(x_test)"
      ],
      "metadata": {
        "id": "n9Zvmjgh4oYs",
        "colab": {
          "base_uri": "https://localhost:8080/"
        },
        "outputId": "8cf3c564-ad06-4f76-8133-9e259640d37b"
      },
      "execution_count": null,
      "outputs": [
        {
          "output_type": "stream",
          "name": "stdout",
          "text": [
            "63/63 [==============================] - 3s 41ms/step\n",
            "16/16 [==============================] - 1s 43ms/step\n"
          ]
        }
      ]
    },
    {
      "cell_type": "code",
      "source": [
        "print(\"Train\")\n",
        "sklearn_metrics(y_train, y_pred_train1)\n",
        "print(\"\\nTest\")\n",
        "sklearn_metrics(y_test, y_pred_test1)"
      ],
      "metadata": {
        "colab": {
          "base_uri": "https://localhost:8080/"
        },
        "id": "hvV7lIDK9YfN",
        "outputId": "d95ee69e-7b3c-4607-c1d1-fdd4d7042f9b"
      },
      "execution_count": null,
      "outputs": [
        {
          "output_type": "stream",
          "name": "stdout",
          "text": [
            "Train\n",
            "Accuracy        : 93.17\n",
            "Macro AUC score : 97.23\n",
            "AUPRC           : 91.04\n",
            "Micro F1 score  : 86.09\n",
            "\n",
            "Test\n",
            "Accuracy        : 91.00\n",
            "Macro AUC score : 93.01\n",
            "AUPRC           : 82.34\n",
            "Micro F1 score  : 81.14\n"
          ]
        }
      ]
    }
  ]
}